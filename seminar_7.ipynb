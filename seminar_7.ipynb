{
  "nbformat": 4,
  "nbformat_minor": 0,
  "metadata": {
    "colab": {
      "provenance": [],
      "authorship_tag": "ABX9TyOSrGKuVLfNF1gvkDCS90f5",
      "include_colab_link": true
    },
    "kernelspec": {
      "name": "python3",
      "display_name": "Python 3"
    },
    "language_info": {
      "name": "python"
    }
  },
  "cells": [
    {
      "cell_type": "markdown",
      "metadata": {
        "id": "view-in-github",
        "colab_type": "text"
      },
      "source": [
        "<a href=\"https://colab.research.google.com/github/Allajka/statistics/blob/main/seminar_7.ipynb\" target=\"_parent\"><img src=\"https://colab.research.google.com/assets/colab-badge.svg\" alt=\"Open In Colab\"/></a>"
      ]
    },
    {
      "cell_type": "code",
      "execution_count": 1,
      "metadata": {
        "id": "yEarBYp5Nqe0"
      },
      "outputs": [],
      "source": [
        "import numpy as np\n",
        "import scipy.stats as stats"
      ]
    },
    {
      "cell_type": "markdown",
      "source": [
        "# Задание 1\n",
        "\n",
        "Даны две независимые выборки. Не соблюдается условие нормальности:\n",
        "\n",
        "**x1:** 380, 420, 290\n",
        "\n",
        "**y1:** 140, 360, 200, 900\n",
        "\n",
        "Сделайте вывод по результатам, полученным с помощью функции.\n",
        "\n",
        "**Решение:**\n",
        "\n",
        "Не соблюдается условие нормальности, используем непараметрические тест.\n",
        "\n",
        "Так как две независимые выборки выбираем **критерий Манна- Уитни**."
      ],
      "metadata": {
        "id": "J4roNWgzNvMO"
      }
    },
    {
      "cell_type": "code",
      "source": [
        "x1 = np.array([380, 420, 290])\n",
        "y2 = np.array([140, 360, 200, 900])"
      ],
      "metadata": {
        "id": "-R6Ndl0KPgrI"
      },
      "execution_count": 2,
      "outputs": []
    },
    {
      "cell_type": "code",
      "source": [
        "stats.mannwhitneyu(x1, y2)"
      ],
      "metadata": {
        "colab": {
          "base_uri": "https://localhost:8080/"
        },
        "id": "O_8e4mhAPmth",
        "outputId": "76388e8f-b5c9-477c-cf29-796fbf3f84e6"
      },
      "execution_count": 4,
      "outputs": [
        {
          "output_type": "execute_result",
          "data": {
            "text/plain": [
              "MannwhitneyuResult(statistic=8.0, pvalue=0.6285714285714286)"
            ]
          },
          "metadata": {},
          "execution_count": 4
        }
      ]
    },
    {
      "cell_type": "markdown",
      "source": [
        "**Ответ:**\n",
        "\n",
        "pvalue=0.62 **>** а = 0.05\n",
        "\n",
        "При статистической значимости в а = 0,05(5%) принимаем нулевую гипотезу - статистически важных различий нет."
      ],
      "metadata": {
        "id": "xo-9ycpdPvJc"
      }
    },
    {
      "cell_type": "markdown",
      "source": [
        "# Задача 2\n",
        "\n",
        "Исследовалось влияние препарата на уровень давления пациентов. Сначала измерялось давление до приема препарата, потом через 10 минут и через 30 минут. \n",
        "\n",
        "Есть ли статистически значимые различия?\n",
        "\n",
        "**1е измерение до приема препарата:** 150, 160, 165, 145, 155\n",
        "\n",
        "**2е измерение через 10 минут:** 140, 155, 150, 130, 135\n",
        "\n",
        "**3е измерение через 30 минут:** 130, 130, 120, 130, 125"
      ],
      "metadata": {
        "id": "Htm0rGdRQP_n"
      }
    },
    {
      "cell_type": "markdown",
      "source": [
        "**Решение:**\n",
        "\n",
        "Не соблюдается условие нормальности(или неизвестно), используем непараметрические тест.\n",
        "\n",
        "Множественное сравнение зависимых данных, используем **критерий Фридмана**"
      ],
      "metadata": {
        "id": "s2oJ-EaJQoaU"
      }
    },
    {
      "cell_type": "code",
      "source": [
        "before = np.array ([150, 160, 165, 145, 155])\n",
        "after_10_min = np.array ([140, 155, 150, 130, 135])\n",
        "after_30_min = np.array ([130, 130, 120, 130, 125])"
      ],
      "metadata": {
        "id": "V31zyjfLQx5C"
      },
      "execution_count": 5,
      "outputs": []
    },
    {
      "cell_type": "code",
      "source": [
        "stats.friedmanchisquare(before, after_10_min, after_30_min)"
      ],
      "metadata": {
        "colab": {
          "base_uri": "https://localhost:8080/"
        },
        "id": "cxBqd8B2SxgU",
        "outputId": "784feedd-a2ce-4e20-fdba-f9fb29603749"
      },
      "execution_count": 6,
      "outputs": [
        {
          "output_type": "execute_result",
          "data": {
            "text/plain": [
              "FriedmanchisquareResult(statistic=9.578947368421062, pvalue=0.00831683351100441)"
            ]
          },
          "metadata": {},
          "execution_count": 6
        }
      ]
    },
    {
      "cell_type": "markdown",
      "source": [
        "**Ответ:**\n",
        "\n",
        "pvalue=0.008 **<** а = 0.05\n",
        "\n",
        "При статистической значимости в а = 0,05(5%) принимаем альтернативную гипотезу: есть статистически значимые различия."
      ],
      "metadata": {
        "id": "ipJ-UdxmS2hJ"
      }
    },
    {
      "cell_type": "markdown",
      "source": [
        "# Задание 3\n",
        "\n",
        "Сравните 1 и 2 е измерения, предполагая, что 3го измерения через 30 минут не было.\n",
        "\n",
        "**1е измерение до приема препарата:** 150, 160, 165, 145, 155\n",
        "\n",
        "**2е измерение через 10 минут:** 140, 155, 150, 130, 135\n",
        "\n",
        "Есть ли статистически значимые различия?"
      ],
      "metadata": {
        "id": "M3RP1T1mTjfJ"
      }
    },
    {
      "cell_type": "markdown",
      "source": [
        "**Решение:**\n",
        "\n",
        "Не соблюдается условие нормальности(или неизвестно), используем непараметрические тест.\n",
        "\n",
        "Две зависимые выборки, используем **критерий Уилкоксона.**"
      ],
      "metadata": {
        "id": "x_kms8nxT8Wm"
      }
    },
    {
      "cell_type": "code",
      "source": [
        "x_before = np.array([150, 160, 165, 145, 155])\n",
        "x_after_10_min = np.array([140, 155, 150, 130, 135])"
      ],
      "metadata": {
        "id": "wFnASsbnUSil"
      },
      "execution_count": 8,
      "outputs": []
    },
    {
      "cell_type": "code",
      "source": [
        "stats.wilcoxon(x_before, x_after_10_min)"
      ],
      "metadata": {
        "colab": {
          "base_uri": "https://localhost:8080/"
        },
        "id": "w8HodgU2UiqW",
        "outputId": "5004b91c-638d-4318-bf4f-477726e6ce51"
      },
      "execution_count": 10,
      "outputs": [
        {
          "output_type": "execute_result",
          "data": {
            "text/plain": [
              "WilcoxonResult(statistic=0.0, pvalue=0.0625)"
            ]
          },
          "metadata": {},
          "execution_count": 10
        }
      ]
    },
    {
      "cell_type": "markdown",
      "source": [
        "**Ответ:**\n",
        "\n",
        "pvalue=0.0625 **>** а = 0.05\n",
        "\n",
        "При статистической значимости в а = 0,05(5%) принимаем нулевую гипотезу - статистически важных различий нет."
      ],
      "metadata": {
        "id": "KrvNQTZoU5uf"
      }
    },
    {
      "cell_type": "markdown",
      "source": [
        "# Задание 4\n",
        "\n",
        "Даны 3 группы учеников плавания. Время на дистанцию 50 м составляют\n",
        "\n",
        "**Первая группа:** 56, 60, 62, 55, 71, 67, 59, 58, 64, 67\n",
        "\n",
        "**Вторая группа:** 57, 58, 69, 48, 72, 70, 68, 71, 50, 53\n",
        "\n",
        "**Третья группа:** 57, 67, 49, 48, 47, 55, 66, 51, 54\n",
        "\n",
        "Есть ли различия между группами?"
      ],
      "metadata": {
        "id": "8JhGE0-wVLFW"
      }
    },
    {
      "cell_type": "markdown",
      "source": [
        "**Решение:**\n",
        "\n",
        "Не соблюдается условие нормальности(или неизвестно), используем непараметрические тест.\n",
        "\n",
        "Множественное сравнение независимых данных, используем **критерий Крускала – Уоллиса(Краскела – Уоллиса).**"
      ],
      "metadata": {
        "id": "7IINQqykVj-9"
      }
    },
    {
      "cell_type": "code",
      "source": [
        "gr_1 = np.array([56, 60, 62, 55, 71, 67, 59, 58, 64, 67])\n",
        "gr_2 = np.array([57, 58, 69, 48, 72, 70, 68, 71, 50, 53])\n",
        "gr_3 = np.array([57, 67, 49, 48, 47, 55, 66, 51, 54])"
      ],
      "metadata": {
        "id": "_9LFssAkVtlT"
      },
      "execution_count": 11,
      "outputs": []
    },
    {
      "cell_type": "code",
      "source": [
        "stats.kruskal(gr_1, gr_2, gr_3)"
      ],
      "metadata": {
        "colab": {
          "base_uri": "https://localhost:8080/"
        },
        "id": "uWCANM5qV69H",
        "outputId": "25235f59-6741-4846-c8a5-105a3caeb078"
      },
      "execution_count": 12,
      "outputs": [
        {
          "output_type": "execute_result",
          "data": {
            "text/plain": [
              "KruskalResult(statistic=5.465564058257224, pvalue=0.0650380998590494)"
            ]
          },
          "metadata": {},
          "execution_count": 12
        }
      ]
    },
    {
      "cell_type": "markdown",
      "source": [
        "**Ответ:**\n",
        "\n",
        "pvalue=0.065 **>** а = 0.05\n",
        "\n",
        "При статистической значимости в а = 0,05(5%) принимаем нулевую гипотезу - статистически важных различий нет."
      ],
      "metadata": {
        "id": "v4dYfjn3V_PO"
      }
    },
    {
      "cell_type": "markdown",
      "source": [
        "# Задание 5 \n",
        "\n",
        "Заявляется, что партия изготавливается со средним арифметическим 2,5 см. Проверить данную гипотезу, если известно, что размеры изделий подчинены нормальному закону распределения. Объем выборки 10, уровень статистической значимости 5%\n",
        "\n",
        "2.51, 2.35, 2.74, 2.56, 2.40, 2.36, 2.65, 2.7, 2.67, 2.34"
      ],
      "metadata": {
        "id": "geH4YgdIWPsr"
      }
    },
    {
      "cell_type": "markdown",
      "source": [
        "**Решение:**\n",
        "\n",
        "Нормальное распределение, используем параметрические тест.\n",
        "\n",
        "Будем использовать **t-критерий (критерий Стьюдента)**, т.к. 𝞼(среднеквадратическое отклонение) генеральной совокупности неизвестна.\n",
        "\n",
        "* Формула: \n",
        "\n",
        "$$t = \\frac{\\overline{x} - μ} {\\sqrt{\\frac{D(X)}{n}}}$$\n",
        "\n",
        "* Гипотеза:\n",
        "\n",
        "  $$ H_0: μ_1 = μ_0 = 2.5 $$\n",
        "\n",
        "  $$ H_1: μ_1 \\neq μ _0$$\n",
        "\n",
        "* Выбор уровня статистической значимости α(альфа):\n",
        "\n",
        "  α(альфа) = 0,05(5%) - по условию\n",
        "\n"
      ],
      "metadata": {
        "id": "Sg2eFPp4m-HR"
      }
    },
    {
      "cell_type": "markdown",
      "source": [],
      "metadata": {
        "id": "_L1RpFN6ucUB"
      }
    },
    {
      "cell_type": "code",
      "source": [
        "values = np.array([2.51, 2.35, 2.74, 2.56, 2.40, 2.36, 2.65, 2.7, 2.67, 2.34]) "
      ],
      "metadata": {
        "id": "YFfiWmpDuPAI"
      },
      "execution_count": 3,
      "outputs": []
    },
    {
      "cell_type": "code",
      "source": [
        "dispersion = np.var(values, ddof=1) # Дисперсия\n",
        "dispersion"
      ],
      "metadata": {
        "colab": {
          "base_uri": "https://localhost:8080/"
        },
        "id": "0hNTcxdfw9ks",
        "outputId": "e1484006-aaec-4593-c7ac-9b87a56ee41c"
      },
      "execution_count": 4,
      "outputs": [
        {
          "output_type": "execute_result",
          "data": {
            "text/plain": [
              "0.02472888888888891"
            ]
          },
          "metadata": {},
          "execution_count": 4
        }
      ]
    },
    {
      "cell_type": "code",
      "source": [
        "average = np.mean(values) # Среднее арифметиическое\n",
        "average"
      ],
      "metadata": {
        "colab": {
          "base_uri": "https://localhost:8080/"
        },
        "id": "DGwecpvxxQZF",
        "outputId": "9fa146b9-6477-4c49-c692-58af8322adfd"
      },
      "execution_count": 6,
      "outputs": [
        {
          "output_type": "execute_result",
          "data": {
            "text/plain": [
              "2.5279999999999996"
            ]
          },
          "metadata": {},
          "execution_count": 6
        }
      ]
    },
    {
      "cell_type": "code",
      "source": [
        "μ = 2.5\n",
        "t = (average - μ) /np.sqrt(dispersion/len(values)) # t-критерий (критерий Стьюдента)\n",
        "t"
      ],
      "metadata": {
        "colab": {
          "base_uri": "https://localhost:8080/"
        },
        "id": "Rxsf95sCxxMZ",
        "outputId": "c96b1bc1-b0b5-4662-d8b3-f71f277bb2f7"
      },
      "execution_count": 7,
      "outputs": [
        {
          "output_type": "execute_result",
          "data": {
            "text/plain": [
              "0.5630613661802959"
            ]
          },
          "metadata": {},
          "execution_count": 7
        }
      ]
    },
    {
      "cell_type": "markdown",
      "source": [
        "Найдем табличное значение t-критерия для двусторонего теста а = 0,05/2 = 0,025"
      ],
      "metadata": {
        "id": "5Riyx3YwztMR"
      }
    },
    {
      "cell_type": "code",
      "source": [
        "tt=stats.t.ppf(0.975,len(values)-1)\n",
        "print(f'Табличное значение t-критерия: {tt: .4f}')"
      ],
      "metadata": {
        "colab": {
          "base_uri": "https://localhost:8080/"
        },
        "id": "1vijB6Q4zikn",
        "outputId": "5c42a5e9-fb5a-47b6-abf7-0c99c89bb340"
      },
      "execution_count": 8,
      "outputs": [
        {
          "output_type": "stream",
          "name": "stdout",
          "text": [
            "Табличное значение t-критерия:  2.2622\n"
          ]
        }
      ]
    },
    {
      "cell_type": "markdown",
      "source": [
        "Или найдем табличное значение t-критерия а = 0,05"
      ],
      "metadata": {
        "id": "RsaGuNM71P3N"
      }
    },
    {
      "cell_type": "code",
      "source": [
        "tt=stats.t.ppf(0.95,len(values)-1)\n",
        "print(f'Табличное значение t-критерия: {tt: .4f}')"
      ],
      "metadata": {
        "colab": {
          "base_uri": "https://localhost:8080/"
        },
        "id": "qedqf77N1FIQ",
        "outputId": "54063ea1-6064-42f6-9542-b6febaf74594"
      },
      "execution_count": 10,
      "outputs": [
        {
          "output_type": "stream",
          "name": "stdout",
          "text": [
            "Табличное значение t-критерия:  1.8331\n"
          ]
        }
      ]
    },
    {
      "cell_type": "markdown",
      "source": [
        "**Ответ: Принимаем нулевую гипотезу с уровенем статистической значимости 5%, что партия изготавливается со средним арифметическим 2,5 см.**"
      ],
      "metadata": {
        "id": "A6ekMke61WhL"
      }
    }
  ]
}