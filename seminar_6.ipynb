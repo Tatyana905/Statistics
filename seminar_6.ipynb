{
  "nbformat": 4,
  "nbformat_minor": 0,
  "metadata": {
    "colab": {
      "provenance": [],
      "authorship_tag": "ABX9TyPb4ccbwBrUjurmkwVD6Yt4",
      "include_colab_link": true
    },
    "kernelspec": {
      "name": "python3",
      "display_name": "Python 3"
    },
    "language_info": {
      "name": "python"
    }
  },
  "cells": [
    {
      "cell_type": "markdown",
      "metadata": {
        "id": "view-in-github",
        "colab_type": "text"
      },
      "source": [
        "<a href=\"https://colab.research.google.com/github/Allajka/statistics/blob/main/seminar_6.ipynb\" target=\"_parent\"><img src=\"https://colab.research.google.com/assets/colab-badge.svg\" alt=\"Open In Colab\"/></a>"
      ]
    },
    {
      "cell_type": "markdown",
      "source": [
        "# Задание 1\n",
        "\n",
        "Известно, что генеральная совокупность распределена нормально\n",
        "со средним квадратическим отклонением, равным 16.\n",
        "Найти доверительный интервал для оценки математического ожидания a с надежностью 0.95, если выборочная средняя M = 80, а объем выборки n = 256.\n",
        "\n",
        "Доверительный интервал для средних арифметических. Сигма совокупности известна:\n",
        "\n",
        "$$\\overline{x} ± z_\\frac{a}{2} * \\frac{σ}{\\sqrt{n}}$$\n",
        "$$\\overline{x} = 80, σ = 16, n = 256$$\n",
        "$$z_\\frac{a}{2}(a = 0.05/2) = 1,96 $$\n",
        "\n",
        "$$80 ± (1,96 * \\frac{16}{\\sqrt{256}})$$"
      ],
      "metadata": {
        "id": "0xpH0tBIwZW7"
      }
    },
    {
      "cell_type": "code",
      "execution_count": 1,
      "metadata": {
        "colab": {
          "base_uri": "https://localhost:8080/"
        },
        "id": "_bB1E4vTwTDT",
        "outputId": "daf3d300-6705-4a14-d527-71978e59686b"
      },
      "outputs": [
        {
          "output_type": "execute_result",
          "data": {
            "text/plain": [
              "81.96"
            ]
          },
          "metadata": {},
          "execution_count": 1
        }
      ],
      "source": [
        "80 + (1.96 * 16/256**0.5)"
      ]
    },
    {
      "cell_type": "code",
      "source": [
        "80 - (1.96 * 16/256**0.5)"
      ],
      "metadata": {
        "colab": {
          "base_uri": "https://localhost:8080/"
        },
        "id": "eaeh31PMxn_X",
        "outputId": "879b44c9-ae8a-456b-ba4c-29fd97637a8a"
      },
      "execution_count": 2,
      "outputs": [
        {
          "output_type": "execute_result",
          "data": {
            "text/plain": [
              "78.04"
            ]
          },
          "metadata": {},
          "execution_count": 2
        }
      ]
    },
    {
      "cell_type": "markdown",
      "source": [
        "**Ответ: 95%-й доверительный интервал для оценки матиматического ожидания генеральной совокупности: [78,04 ; 81,96]**"
      ],
      "metadata": {
        "id": "VuTz3CYQxvWA"
      }
    },
    {
      "cell_type": "markdown",
      "source": [
        "# Задание 2\n",
        "\n",
        "В результате 10 независимых измерений некоторой величины X, выполненных с одинаковой точностью, получены опытные данные: 6.9, 6.1, 6.2, 6.8, 7.5, 6.3, 6.4, 6.9, 6.7, 6.1\n",
        "\n",
        "Предполагая, что результаты измерений подчинены нормальному закону распределения вероятностей,\n",
        "оценить истинное значение величины X при помощи доверительного интервала, покрывающего это\n",
        "значение с доверительной вероятностью 0,95.\n",
        "\n",
        "Доверительный интервал для средних арифметических. Сигма совокупности неизвестна: \n",
        "$$\\overline{x} ± t_\\frac{a}{2} * \\frac{σ}{\\sqrt{n}}$$"
      ],
      "metadata": {
        "id": "TVTa1JgLyeR_"
      }
    },
    {
      "cell_type": "code",
      "source": [
        "import numpy as np\n",
        "import scipy.stats as stats"
      ],
      "metadata": {
        "id": "hKM5DFgby3bb"
      },
      "execution_count": 3,
      "outputs": []
    },
    {
      "cell_type": "code",
      "source": [
        "values_X = np.array([6.9, 6.1, 6.2, 6.8, 7.5, 6.3, 6.4, 6.9, 6.7, 6.1]) \n",
        "mean_values_X = round(np.mean(values_X), 3) # Среднее арифметиическое\n",
        "mean_values_X"
      ],
      "metadata": {
        "colab": {
          "base_uri": "https://localhost:8080/"
        },
        "id": "XUMOw33ky7vu",
        "outputId": "d324f574-06e7-4740-da54-b5b4a645e064"
      },
      "execution_count": 5,
      "outputs": [
        {
          "output_type": "execute_result",
          "data": {
            "text/plain": [
              "6.59"
            ]
          },
          "metadata": {},
          "execution_count": 5
        }
      ]
    },
    {
      "cell_type": "code",
      "source": [
        "dispersion = round(np.var(values_X, ddof=1), 2) # несмещенная дисперсия\n",
        "dispersion"
      ],
      "metadata": {
        "colab": {
          "base_uri": "https://localhost:8080/"
        },
        "id": "HRkC3Hf-zXRa",
        "outputId": "807c2ed3-8ee5-43dc-e37b-94f0596d8ec2"
      },
      "execution_count": 6,
      "outputs": [
        {
          "output_type": "execute_result",
          "data": {
            "text/plain": [
              "0.2"
            ]
          },
          "metadata": {},
          "execution_count": 6
        }
      ]
    },
    {
      "cell_type": "code",
      "source": [
        "t_tabular = stats.t.ppf(0.975, 9) # t_табличное, 100-5/2 и 10-1\n",
        "t_tabular"
      ],
      "metadata": {
        "colab": {
          "base_uri": "https://localhost:8080/"
        },
        "id": "JpcNHgUjzdP6",
        "outputId": "bf4b603c-e85b-4de1-b867-1d1d7175327e"
      },
      "execution_count": 13,
      "outputs": [
        {
          "output_type": "execute_result",
          "data": {
            "text/plain": [
              "2.2621571627409915"
            ]
          },
          "metadata": {},
          "execution_count": 13
        }
      ]
    },
    {
      "cell_type": "code",
      "source": [
        "mean_values_X + t_tabular * np.sqrt(dispersion/len(values_X))"
      ],
      "metadata": {
        "colab": {
          "base_uri": "https://localhost:8080/"
        },
        "id": "Hx9DWkJjzkFf",
        "outputId": "f52cad4c-3958-4eab-ab24-7f49af727311"
      },
      "execution_count": 14,
      "outputs": [
        {
          "output_type": "execute_result",
          "data": {
            "text/plain": [
              "6.909917333976775"
            ]
          },
          "metadata": {},
          "execution_count": 14
        }
      ]
    },
    {
      "cell_type": "code",
      "source": [
        "mean_values_X - t_tabular * np.sqrt(dispersion/len(values_X))"
      ],
      "metadata": {
        "colab": {
          "base_uri": "https://localhost:8080/"
        },
        "id": "_uxNz1kUzpb5",
        "outputId": "2c6efca7-8bde-4090-f144-5a2abb952131"
      },
      "execution_count": 15,
      "outputs": [
        {
          "output_type": "execute_result",
          "data": {
            "text/plain": [
              "6.2700826660232245"
            ]
          },
          "metadata": {},
          "execution_count": 15
        }
      ]
    },
    {
      "cell_type": "markdown",
      "source": [
        "**Ответ: 95%-й доверительный интервал для истинного значения величины X : [6.270 ; 6.910]**"
      ],
      "metadata": {
        "id": "FQjgjSxuz6z6"
      }
    },
    {
      "cell_type": "markdown",
      "source": [
        "# Задание 3\n",
        "\n",
        "Рост дочерей 175, 167, 154, 174, 178, 148, 160, 167, 169, 170\n",
        "\n",
        "Рост матерей 178, 165, 165, 173, 168, 155, 160, 164, 178, 175\n",
        "\n",
        "Используя эти данные построить 95% доверительный интервал для разности среднего роста родителей и детей."
      ],
      "metadata": {
        "id": "_nHwzMri0Of_"
      }
    },
    {
      "cell_type": "markdown",
      "source": [
        "Интервальная оценка для разности средних арифметических:\n",
        "\n",
        "$$Δ ± t_\\frac{a}{2} * S_Δ$$\n",
        "где,\n",
        "$$Δ(дельта) = \\overline{X}_1 - \\overline{X}_2$$\n",
        "\n",
        "Выборки могут иметь разную дисперсию, поэтому нужно найти среднюю: \n",
        "$$D = \\frac{1}{2}(D_1+D_2)$$\n",
        "$$S_Δ = \\sqrt{\\frac{D}{n_1}+\\frac{D}{n_2}} $$"
      ],
      "metadata": {
        "id": "X-rT3dng1BRv"
      }
    },
    {
      "cell_type": "code",
      "source": [
        "import numpy as np\n",
        "import scipy.stats as stats"
      ],
      "metadata": {
        "id": "YPTBaTIR1TCF"
      },
      "execution_count": 16,
      "outputs": []
    },
    {
      "cell_type": "code",
      "source": [
        "mothers = np.array([178, 165, 165, 173, 168, 155, 160, 164, 178, 175]) \n",
        "daughters = np.array([175, 167, 154, 174, 178, 148, 160, 167, 169, 170]) "
      ],
      "metadata": {
        "id": "I3GhVoG41VQA"
      },
      "execution_count": 17,
      "outputs": []
    },
    {
      "cell_type": "code",
      "source": [
        "# Среднее арифметиическое\n",
        "mean_mothers = np.mean(mothers) \n",
        "mean_daughters = np.mean(daughters) \n",
        "print(f'Среднее арифметиическое рост матерей - {mean_mothers}, рост дочерей {mean_daughters}')"
      ],
      "metadata": {
        "colab": {
          "base_uri": "https://localhost:8080/"
        },
        "id": "1Y913FNd1nu2",
        "outputId": "18257c62-cce0-4e26-9c22-caa55d15e7f4"
      },
      "execution_count": 18,
      "outputs": [
        {
          "output_type": "stream",
          "name": "stdout",
          "text": [
            "Среднее арифметиическое рост матерей - 168.1, рост дочерей 166.2\n"
          ]
        }
      ]
    },
    {
      "cell_type": "code",
      "source": [
        "delta = round(mean_mothers - mean_daughters, 3)\n",
        "delta"
      ],
      "metadata": {
        "colab": {
          "base_uri": "https://localhost:8080/"
        },
        "id": "dtRCbK4j2F4d",
        "outputId": "5c894493-b541-48cd-a300-57f442ece336"
      },
      "execution_count": 20,
      "outputs": [
        {
          "output_type": "execute_result",
          "data": {
            "text/plain": [
              "1.9"
            ]
          },
          "metadata": {},
          "execution_count": 20
        }
      ]
    },
    {
      "cell_type": "code",
      "source": [
        "# несмещенная дисперсия\n",
        "D1 = round(np.var(mothers, ddof=1), 3) \n",
        "D2 = round(np.var(daughters, ddof=1), 3) \n",
        "print(f'Несмещенная дисперсия рост матерей - {D1}, рост дочерей {D1}')"
      ],
      "metadata": {
        "colab": {
          "base_uri": "https://localhost:8080/"
        },
        "id": "CKcRwxO32bWa",
        "outputId": "2291cba5-d5ef-41fd-f678-44de3ddf2322"
      },
      "execution_count": 22,
      "outputs": [
        {
          "output_type": "stream",
          "name": "stdout",
          "text": [
            "Несмещенная дисперсия рост матерей - 60.1, рост дочерей 60.1\n"
          ]
        }
      ]
    },
    {
      "cell_type": "code",
      "source": [
        "# объединенная оценка дисперсий \n",
        "D = (D1 + D2) / 2 \n",
        "D"
      ],
      "metadata": {
        "colab": {
          "base_uri": "https://localhost:8080/"
        },
        "id": "llP5ldrV2zmd",
        "outputId": "a1c3b0b1-9814-42e2-d280-e1e3592240e5"
      },
      "execution_count": 23,
      "outputs": [
        {
          "output_type": "execute_result",
          "data": {
            "text/plain": [
              "75.5835"
            ]
          },
          "metadata": {},
          "execution_count": 23
        }
      ]
    },
    {
      "cell_type": "code",
      "source": [
        "SE = np.sqrt(D/len(mothers) + D/len(daughters))  # стандартная ошибка разности средних \n",
        "SE"
      ],
      "metadata": {
        "colab": {
          "base_uri": "https://localhost:8080/"
        },
        "id": "ps9sapAz24ya",
        "outputId": "a453c2f3-5566-4505-8c6c-d60765409825"
      },
      "execution_count": 24,
      "outputs": [
        {
          "output_type": "execute_result",
          "data": {
            "text/plain": [
              "3.888020061676637"
            ]
          },
          "metadata": {},
          "execution_count": 24
        }
      ]
    },
    {
      "cell_type": "code",
      "source": [
        "t_tabul = stats.t.ppf(0.975, len(mothers) + len(daughters) - 2) # t_табличное, 100-5/2 и (10-1)*2 = 18\n",
        "t_tabul"
      ],
      "metadata": {
        "colab": {
          "base_uri": "https://localhost:8080/"
        },
        "id": "s4BIonSN2_tq",
        "outputId": "52a7f4d3-9204-4056-b08b-5800201764a1"
      },
      "execution_count": 25,
      "outputs": [
        {
          "output_type": "execute_result",
          "data": {
            "text/plain": [
              "2.10092204024096"
            ]
          },
          "metadata": {},
          "execution_count": 25
        }
      ]
    },
    {
      "cell_type": "code",
      "source": [
        "L = delta - t_tabul * SE\n",
        "U = delta + t_tabul * SE\n",
        "print(f\"Доверительный интервал [{L}; {U}]\")"
      ],
      "metadata": {
        "colab": {
          "base_uri": "https://localhost:8080/"
        },
        "id": "eJ7hV-gh3WWm",
        "outputId": "a58bc561-56f6-4f8f-908f-cfe8b0f30233"
      },
      "execution_count": 26,
      "outputs": [
        {
          "output_type": "stream",
          "name": "stdout",
          "text": [
            "Доверительный интервал [-6.268427040475464; 10.068427040475465]\n"
          ]
        }
      ]
    },
    {
      "cell_type": "markdown",
      "source": [
        "**Ответ:  95% доверительный интервал для разности среднего роста родителей и детей [-6.268; 10.068]**"
      ],
      "metadata": {
        "id": "wxG-g4xb4UZr"
      }
    }
  ]
}