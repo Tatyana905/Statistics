{
  "nbformat": 4,
  "nbformat_minor": 0,
  "metadata": {
    "colab": {
      "provenance": [],
      "authorship_tag": "ABX9TyOI71lJkbqaWGpJqbNoKtvN",
      "include_colab_link": true
    },
    "kernelspec": {
      "name": "python3",
      "display_name": "Python 3"
    },
    "language_info": {
      "name": "python"
    }
  },
  "cells": [
    {
      "cell_type": "markdown",
      "metadata": {
        "id": "view-in-github",
        "colab_type": "text"
      },
      "source": [
        "<a href=\"https://colab.research.google.com/github/Allajka/statistics/blob/main/seminar_8ipynb.ipynb\" target=\"_parent\"><img src=\"https://colab.research.google.com/assets/colab-badge.svg\" alt=\"Open In Colab\"/></a>"
      ]
    },
    {
      "cell_type": "markdown",
      "source": [
        "# Задание 1\n",
        "\n",
        "Даны значения величины заработной платы заемщиков банка (zp) и значения их поведенческого кредитного скоринга (ks):\n",
        "\n",
        "zp = [35, 45, 190, 200, 40, 70, 54, 150, 120, 110],\n",
        "\n",
        "ks = [401, 574, 874, 919, 459, 739, 653, 902, 746, 832].\n",
        "\n",
        "* Найдите ковариацию этих двух величин с помощью элементарных действий, а затем с помощью функции cov из numpy Полученные значения должны быть равны.\n",
        "* Найдите коэффициент корреляции Пирсона с помощью ковариации и среднеквадратичных отклонений двух признаков,\n",
        "а затем с использованием функций из библиотек numpy и pandas."
      ],
      "metadata": {
        "id": "prLrZWBGY35D"
      }
    },
    {
      "cell_type": "code",
      "execution_count": 7,
      "metadata": {
        "id": "BIaxgHcEYzgk"
      },
      "outputs": [],
      "source": [
        "import numpy as np\n",
        "import scipy.stats as stats\n",
        "import matplotlib.pyplot as plt"
      ]
    },
    {
      "cell_type": "code",
      "source": [
        "zp = np.array([35, 45, 190, 200, 40, 70, 54, 150, 120, 110])\n",
        "ks = np.array([401, 574, 874, 919, 459, 739, 653, 902, 746, 832])"
      ],
      "metadata": {
        "id": "vKrhCxdvZS9K"
      },
      "execution_count": 8,
      "outputs": []
    },
    {
      "cell_type": "code",
      "source": [
        "plt.scatter(zp, ks)\n",
        "plt.title('r = 0.89')\n",
        "plt.xlabel('Величина заработной платы заемщиков банка')\n",
        "plt.ylabel('Поведенческий кредитный скоринг')\n",
        "plt.show()"
      ],
      "metadata": {
        "colab": {
          "base_uri": "https://localhost:8080/",
          "height": 295
        },
        "id": "zBWvaRJ9Zbte",
        "outputId": "44172f29-6ee8-47ce-be36-ad9d9a1b257d"
      },
      "execution_count": 20,
      "outputs": [
        {
          "output_type": "display_data",
          "data": {
            "text/plain": [
              "<Figure size 432x288 with 1 Axes>"
            ],
            "image/png": "[encoded data removed]"
          },
          "metadata": {
            "needs_background": "light"
          }
        }
      ]
    },
    {
      "cell_type": "markdown",
      "source": [
        "## Ковариация\n",
        "\n",
        "$$cov_(xy)=M(XY)-M(X) * M(Y)$$"
      ],
      "metadata": {
        "id": "rkwyCBzqaAD6"
      }
    },
    {
      "cell_type": "code",
      "source": [
        "cov = np.mean(zp * ks) - np.mean(zp) * np.mean(ks)\n",
        "cov"
      ],
      "metadata": {
        "colab": {
          "base_uri": "https://localhost:8080/"
        },
        "id": "eWZKLYSRaeyF",
        "outputId": "a7a8e692-bbae-45b0-bfc3-7c87a2d6e75d"
      },
      "execution_count": 10,
      "outputs": [
        {
          "output_type": "execute_result",
          "data": {
            "text/plain": [
              "9157.839999999997"
            ]
          },
          "metadata": {},
          "execution_count": 10
        }
      ]
    },
    {
      "cell_type": "code",
      "source": [
        "np.cov(zp, ks, ddof = 0)"
      ],
      "metadata": {
        "colab": {
          "base_uri": "https://localhost:8080/"
        },
        "id": "XB1WqPeRbCXY",
        "outputId": "8305496a-a2eb-4cdf-e69b-db9ea0f2363c"
      },
      "execution_count": 12,
      "outputs": [
        {
          "output_type": "execute_result",
          "data": {
            "text/plain": [
              "array([[ 3494.64,  9157.84],\n",
              "       [ 9157.84, 30468.89]])"
            ]
          },
          "metadata": {},
          "execution_count": 12
        }
      ]
    },
    {
      "cell_type": "markdown",
      "source": [
        "**Ответ** cov = 9157.84 ---> Обе величины двигаются вверх."
      ],
      "metadata": {
        "id": "lKAAxaqXcGky"
      }
    },
    {
      "cell_type": "markdown",
      "source": [
        "## Коэффициент корреляции Пирсона\n",
        "\n",
        "$$r= \\frac{cov_(xy)}{σ_x * σ_y}$$"
      ],
      "metadata": {
        "id": "hDUQXpjtcczj"
      }
    },
    {
      "cell_type": "code",
      "source": [
        "np.corrcoef(zp, ks)"
      ],
      "metadata": {
        "colab": {
          "base_uri": "https://localhost:8080/"
        },
        "id": "202yjFf2ctw8",
        "outputId": "8ab730de-f8dc-4c1c-d43b-060ba038ebc8"
      },
      "execution_count": 14,
      "outputs": [
        {
          "output_type": "execute_result",
          "data": {
            "text/plain": [
              "array([[1.        , 0.88749009],\n",
              "       [0.88749009, 1.        ]])"
            ]
          },
          "metadata": {},
          "execution_count": 14
        }
      ]
    },
    {
      "cell_type": "code",
      "source": [
        "np.cov(zp, ks, ddof = 0)"
      ],
      "metadata": {
        "colab": {
          "base_uri": "https://localhost:8080/"
        },
        "id": "wObTD_rcc5YL",
        "outputId": "4f7c8e8a-dbb2-45b9-af96-ff515069e82c"
      },
      "execution_count": 15,
      "outputs": [
        {
          "output_type": "execute_result",
          "data": {
            "text/plain": [
              "array([[ 3494.64,  9157.84],\n",
              "       [ 9157.84, 30468.89]])"
            ]
          },
          "metadata": {},
          "execution_count": 15
        }
      ]
    },
    {
      "cell_type": "code",
      "source": [
        "np.std(zp, ddof = 0)"
      ],
      "metadata": {
        "colab": {
          "base_uri": "https://localhost:8080/"
        },
        "id": "kXJEhmhnc-oZ",
        "outputId": "36ac1f3d-8859-45d7-9777-fe82626aac38"
      },
      "execution_count": 16,
      "outputs": [
        {
          "output_type": "execute_result",
          "data": {
            "text/plain": [
              "59.115480206118605"
            ]
          },
          "metadata": {},
          "execution_count": 16
        }
      ]
    },
    {
      "cell_type": "code",
      "source": [
        "np.std(ks, ddof = 0)"
      ],
      "metadata": {
        "colab": {
          "base_uri": "https://localhost:8080/"
        },
        "id": "iHzIo81ndB15",
        "outputId": "1ea414c4-dfaa-47cd-d415-6f95d7fd78e1"
      },
      "execution_count": 17,
      "outputs": [
        {
          "output_type": "execute_result",
          "data": {
            "text/plain": [
              "174.55340157098058"
            ]
          },
          "metadata": {},
          "execution_count": 17
        }
      ]
    },
    {
      "cell_type": "code",
      "source": [
        "9157.84 / (59.115480206118605 * 174.55340157098058)"
      ],
      "metadata": {
        "colab": {
          "base_uri": "https://localhost:8080/"
        },
        "id": "6MVNc4LmdGNV",
        "outputId": "b72a1f2b-90e4-4842-f3cf-a5e43d37ea61"
      },
      "execution_count": 18,
      "outputs": [
        {
          "output_type": "execute_result",
          "data": {
            "text/plain": [
              "0.8874900920739162"
            ]
          },
          "metadata": {},
          "execution_count": 18
        }
      ]
    },
    {
      "cell_type": "markdown",
      "source": [
        "**Ответ** \n",
        "Коэффициент корреляции Пирсона = 0.89.\n",
        "\n",
        "Это говорит нам о сильной прямой линейной зависимости двух величин, рост одной случайной величины сопровождается ростом другой случайной величины."
      ],
      "metadata": {
        "id": "Ll42J8vrdg9O"
      }
    },
    {
      "cell_type": "markdown",
      "source": [
        "**Вывод по первой задаче:** после анализа графика, ковариации и коэффициента корреляции предполагаем, что у нас сильная прямая ленейная зависимость. При увеличении заработной платы заемщиков увеличивается значения их поведенческого кредитного скоринга."
      ],
      "metadata": {
        "id": "UmIEbv-jfFXe"
      }
    },
    {
      "cell_type": "markdown",
      "source": [
        "# Задание 2\n",
        "\n",
        "Измерены значения IQ выборки студентов, обучающихся в местных технических вузах:\n",
        "\n",
        "131, 125, 115, 122, 131, 115, 107, 99, 125, 111.\n",
        "\n",
        "Известно, что в генеральной совокупности IQ **распределен нормально**.\n",
        "\n",
        "Найдите доверительный интервал для математического ожидания с надежностью 0.95."
      ],
      "metadata": {
        "id": "ZaR9aHSkf6AW"
      }
    },
    {
      "cell_type": "markdown",
      "source": [
        "**Решение:** так как у нас не известна σ генеральной совокупности, воспользуемся формулой:\n",
        "\n",
        "$$\\overline{x} ± t_\\frac{a}{2} * \\frac{σ}{\\sqrt{n}}$$\n",
        "\n",
        "Тест проведем двухстроний т.к. нам ничего не известно о генеральной совокупности."
      ],
      "metadata": {
        "id": "4F1fQNOTgWwf"
      }
    },
    {
      "cell_type": "code",
      "source": [
        "iq_students= np.array([131, 125, 115, 122, 131, 115, 107, 99, 125, 111]) "
      ],
      "metadata": {
        "id": "dWrVva_KhK4E"
      },
      "execution_count": 23,
      "outputs": []
    },
    {
      "cell_type": "code",
      "source": [
        "mean_iq_students = np.mean(iq_students) # Среднее арифметиическое\n",
        "mean_iq_students"
      ],
      "metadata": {
        "colab": {
          "base_uri": "https://localhost:8080/"
        },
        "id": "6nky9LDthHU8",
        "outputId": "77210c91-c058-4f7c-961c-3b15cb47733e"
      },
      "execution_count": 24,
      "outputs": [
        {
          "output_type": "execute_result",
          "data": {
            "text/plain": [
              "118.1"
            ]
          },
          "metadata": {},
          "execution_count": 24
        }
      ]
    },
    {
      "cell_type": "code",
      "source": [
        "dispersion = round(np.var(iq_students, ddof=1), 2) # несмещенная дисперсия\n",
        "dispersion"
      ],
      "metadata": {
        "colab": {
          "base_uri": "https://localhost:8080/"
        },
        "id": "NRlqv2ethbff",
        "outputId": "49ed59c0-0b23-438e-9734-8f9afda7179f"
      },
      "execution_count": 25,
      "outputs": [
        {
          "output_type": "execute_result",
          "data": {
            "text/plain": [
              "111.21"
            ]
          },
          "metadata": {},
          "execution_count": 25
        }
      ]
    },
    {
      "cell_type": "code",
      "source": [
        "t_tabular = stats.t.ppf(0.975, len(iq_students) - 1) # t_табличное, 100-5/2 и 10-1\n",
        "t_tabular"
      ],
      "metadata": {
        "colab": {
          "base_uri": "https://localhost:8080/"
        },
        "id": "XqNFHHithxFH",
        "outputId": "f2878ec8-991c-461d-8a06-da8ee02676b5"
      },
      "execution_count": 26,
      "outputs": [
        {
          "output_type": "execute_result",
          "data": {
            "text/plain": [
              "2.2621571627409915"
            ]
          },
          "metadata": {},
          "execution_count": 26
        }
      ]
    },
    {
      "cell_type": "code",
      "source": [
        "left_border = round(mean_iq_students - t_tabular * np.sqrt(dispersion/len(iq_students)), 3)\n",
        "right_border = round(mean_iq_students + t_tabular * np.sqrt(dispersion/len(iq_students)), 3)\n",
        "print(f\"Доверительный интервал [{left_border} ; {right_border}]\")"
      ],
      "metadata": {
        "colab": {
          "base_uri": "https://localhost:8080/"
        },
        "id": "YDDTiTC_h-54",
        "outputId": "352ea534-c746-4693-cf99-f2aee4396d4d"
      },
      "execution_count": 28,
      "outputs": [
        {
          "output_type": "stream",
          "name": "stdout",
          "text": [
            "Доверительный интервал [110.556 ; 125.644]\n"
          ]
        }
      ]
    },
    {
      "cell_type": "markdown",
      "source": [
        "**Ответ:** C вероятностью 95% IQ студентов, обучающихся в местных технических вузах попадет в доверительный интервал [110.556 ; 125.644] и захватит истинное математическое ожидание."
      ],
      "metadata": {
        "id": "Rxc9xPl-iqt3"
      }
    },
    {
      "cell_type": "markdown",
      "source": [
        "# Задание 3\n",
        "\n",
        "Известно, что рост футболистов в сборной распределен нормально\n",
        "с дисперсией генеральной совокупности, **D = 25 кв.см**. Объем выборки равен **n = 27**, **среднее выборочное составляет 174.2**. Найдите доверительный интервал для математического ожидания с надежностью 0.95."
      ],
      "metadata": {
        "id": "lNfDqqJDjMJ7"
      }
    },
    {
      "cell_type": "markdown",
      "source": [
        "**Решение:** так как у нас известна σ генеральной совокупности, воспользуемся формулой:\n",
        "\n",
        "$$\\overline{x} ± z_\\frac{a}{2} * \\frac{σ}{\\sqrt{n}}$$\n",
        "\n",
        "$$\\overline{x} = 174.2, D = 25, n = 27, a = 5$$\n",
        "\n",
        "$$z_\\frac{a}{2} = 5/2 = 2.5, по таблице = 1,96 $$\n",
        "\n",
        "$$174.2 ± 1.96 * \\frac{\\sqrt{25}}{\\sqrt{27}}$$"
      ],
      "metadata": {
        "id": "PSBPdtHajrtg"
      }
    },
    {
      "cell_type": "code",
      "source": [
        "174.2 + 1.96 * ((25**0.5)/27**0.5)"
      ],
      "metadata": {
        "colab": {
          "base_uri": "https://localhost:8080/"
        },
        "id": "Ewp3wJqWkkK4",
        "outputId": "95ff54a6-e95b-4e25-ef66-5ab6e9416933"
      },
      "execution_count": 32,
      "outputs": [
        {
          "output_type": "execute_result",
          "data": {
            "text/plain": [
              "176.08601087935276"
            ]
          },
          "metadata": {},
          "execution_count": 32
        }
      ]
    },
    {
      "cell_type": "code",
      "source": [
        "174.2 - 1.96 * ((25**0.5)/27**0.5)"
      ],
      "metadata": {
        "colab": {
          "base_uri": "https://localhost:8080/"
        },
        "id": "GoThtsZ7krfD",
        "outputId": "bda5e231-19a7-4dda-b81b-f71feeabc984"
      },
      "execution_count": 33,
      "outputs": [
        {
          "output_type": "execute_result",
          "data": {
            "text/plain": [
              "172.31398912064722"
            ]
          },
          "metadata": {},
          "execution_count": 33
        }
      ]
    },
    {
      "cell_type": "markdown",
      "source": [
        "**Ответ:** C вероятностью 95% рост футболистов в сборной попадет в доверительный интервал [172.314; 176.086] и захватит истинное математическое ожидание."
      ],
      "metadata": {
        "id": "m2-I2zuhkuTu"
      }
    }
  ]
}