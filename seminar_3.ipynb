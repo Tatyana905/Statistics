{
  "nbformat": 4,
  "nbformat_minor": 0,
  "metadata": {
    "colab": {
      "provenance": [],
      "authorship_tag": "ABX9TyNJewFmdcnCOuv6CazEyeME",
      "include_colab_link": true
    },
    "kernelspec": {
      "name": "python3",
      "display_name": "Python 3"
    },
    "language_info": {
      "name": "python"
    }
  },
  "cells": [
    {
      "cell_type": "markdown",
      "metadata": {
        "id": "view-in-github",
        "colab_type": "text"
      },
      "source": [
        "<a href=\"https://colab.research.google.com/github/Allajka/statistics/blob/main/seminar_3.ipynb\" target=\"_parent\"><img src=\"https://colab.research.google.com/assets/colab-badge.svg\" alt=\"Open In Colab\"/></a>"
      ]
    },
    {
      "cell_type": "code",
      "execution_count": null,
      "metadata": {
        "id": "7tRwolvJoXHx"
      },
      "outputs": [],
      "source": [
        "import pandas as pd\n",
        "import numpy as np\n",
        "from math import factorial as fl"
      ]
    },
    {
      "cell_type": "code",
      "source": [
        "def C (n, k):\n",
        "  return fl(n) / (fl(k)*fl(n - k))"
      ],
      "metadata": {
        "id": "FRewtAFwSsDR"
      },
      "execution_count": null,
      "outputs": []
    },
    {
      "cell_type": "markdown",
      "source": [
        "##**Задача 1**\n",
        "\n",
        "Даны значения зарплат из выборки выпускников: 100, 80, 75, 77, 89, 33, 45, 25, 65, 17, 30, 24, 57, 55, 70, 75, 65, 84, 90, 150."
      ],
      "metadata": {
        "id": "kqoro315ocwS"
      }
    },
    {
      "cell_type": "code",
      "source": [
        "values = [100, 80, 75, 77, 89, 33, 45, 25, 65, 17, 30, 24, 57, 55, 70, 75, 65, 84, 90, 150]\n",
        "average = sum(values)/ len(values)"
      ],
      "metadata": {
        "id": "LK_SbdrWon8m"
      },
      "execution_count": null,
      "outputs": []
    },
    {
      "cell_type": "markdown",
      "source": [
        "**1 Cреднее арифметическое: 1306 / 20 = 65.3**"
      ],
      "metadata": {
        "id": "PS-VpKO8oqO9"
      }
    },
    {
      "cell_type": "markdown",
      "source": [
        "*Несмещенная оценка дисперсии*\n",
        "$$S = \\sqrt{\\frac{Σ(x_i -  μ)^2 * n_i} { n -1}}$$\n",
        "*Cмещенная оценка дисперсии*\n",
        "$$S = \\sqrt{\\frac{Σ(x_i -  μ)^2 * n_i} { n}}$$"
      ],
      "metadata": {
        "id": "KBmLSOnbot1g"
      }
    },
    {
      "cell_type": "code",
      "source": [
        "print(f\"Сумма частот Σ = {(len(values))}\")\n",
        "print(f\"Среднее μ = {average}\")"
      ],
      "metadata": {
        "colab": {
          "base_uri": "https://localhost:8080/"
        },
        "id": "yyZXLGFUo304",
        "outputId": "c46a7d45-9fda-4d7d-acd7-16d6dc59c89a"
      },
      "execution_count": null,
      "outputs": [
        {
          "output_type": "stream",
          "name": "stdout",
          "text": [
            "Сумма частот Σ = 20\n",
            "Среднее μ = 65.3\n"
          ]
        }
      ]
    },
    {
      "cell_type": "code",
      "source": [
        "values = [i**2 for i in values]"
      ],
      "metadata": {
        "id": "0kpV6-XPo6Oy"
      },
      "execution_count": null,
      "outputs": []
    },
    {
      "cell_type": "code",
      "source": [
        "average_mean = sum(values)/len(values)\n",
        "dispersion_bias = average_mean - average **2"
      ],
      "metadata": {
        "id": "QxJW5p1Go8uQ"
      },
      "execution_count": null,
      "outputs": []
    },
    {
      "cell_type": "markdown",
      "source": [
        "**2 Cмещенная дисперсия = 950.11**"
      ],
      "metadata": {
        "id": "a2kooHLYo--4"
      }
    },
    {
      "cell_type": "code",
      "source": [
        "values = np.array([100, 80, 75, 77, 89, 33, 45, 25, 65, 17, 30, 24, 57, 55, 70, 75, 65, 84, 90, 150])\n",
        "np.sum((values - average)**2) / (len(values) - 1)"
      ],
      "metadata": {
        "colab": {
          "base_uri": "https://localhost:8080/"
        },
        "id": "o8BRD8MipAT5",
        "outputId": "1bbd449f-1356-4696-f9a6-d9d9a5fd2a60"
      },
      "execution_count": null,
      "outputs": [
        {
          "output_type": "execute_result",
          "data": {
            "text/plain": [
              "1000.1157894736842"
            ]
          },
          "metadata": {},
          "execution_count": 6
        }
      ]
    },
    {
      "cell_type": "markdown",
      "source": [
        "**3 Несмещенная дисперсия = 1000.11**"
      ],
      "metadata": {
        "id": "bKmfPvChpDmI"
      }
    },
    {
      "cell_type": "code",
      "source": [
        "standard_deviation = dispersion_bias**0.5"
      ],
      "metadata": {
        "id": "SQ-hj0ehpFw2"
      },
      "execution_count": null,
      "outputs": []
    },
    {
      "cell_type": "markdown",
      "source": [
        "**4 Cреднее квадратичное отклонение = 30.823**"
      ],
      "metadata": {
        "id": "2qi_22NupHOG"
      }
    },
    {
      "cell_type": "markdown",
      "source": [
        "## Задача 2\n",
        "В первом ящике находится 8 мячей, из которых 5 - белые. Во втором ящике - 12 мячей, из которых 5 белых. Из первого ящика вытаскивают случайным образом два мяча, из второго - 4. Какова вероятность того, что 3 мяча белые?\n",
        "\n",
        "P = P(1) * P(2) + P(3) * Р(4) + P(5) * Р(6)\n",
        "\n",
        "P(1) - 1 белый и 1 черный из первой\n",
        "\n",
        "P(2) - 2 белых и 2 черный из второй\n",
        "\n",
        "P(3) - 2 белых и 0 черный из первой\n",
        "\n",
        "P(4) - 1 белый и 3 черный из второй\n",
        "\n",
        "P(5) - 0 белых и 2 черных из первой\n",
        "\n",
        "P(6) - 3 белых и 1 черный из второй"
      ],
      "metadata": {
        "id": "PKODo5OvpNVb"
      }
    },
    {
      "cell_type": "markdown",
      "source": [
        "$P(1) =  \\frac{C_{5}^{1} * C_{3}^{1} }{C_{8}^{2} }$ \n",
        "$P(2) =  \\frac{C_{5}^{2} * C_{7}^{2} }{C_{12}^{4} }$\n",
        "$P(3) =  \\frac{C_{5}^{2} * C_{3}^{0} }{C_{8}^{2} }$\n",
        "$P(4) =  \\frac{C_{5}^{1} * C_{7}^{3} }{C_{12}^{4} }$\n",
        "$P(5) =  \\frac{C_{5}^{0} * C_{3}^{2} }{C_{8}^{2} }$\n",
        "$P(6) =  \\frac{C_{5}^{3} * C_{7}^{1} }{C_{12}^{4} }$"
      ],
      "metadata": {
        "id": "_TZQ0a_ApcpJ"
      }
    },
    {
      "cell_type": "code",
      "source": [
        "P_1 =  (C(5, 1) * C(3, 1)) / C(8, 2)"
      ],
      "metadata": {
        "id": "c0dQ-WdFpari"
      },
      "execution_count": null,
      "outputs": []
    },
    {
      "cell_type": "code",
      "source": [
        "P_2 =  (C(5, 2) * C(7, 2)) / C(12, 4)"
      ],
      "metadata": {
        "id": "FBGiZ9-Wpdbi"
      },
      "execution_count": null,
      "outputs": []
    },
    {
      "cell_type": "code",
      "source": [
        "P_3 =  (C(5, 2) * C(3, 0)) / C(8, 2)"
      ],
      "metadata": {
        "id": "rzK5ym6zphhn"
      },
      "execution_count": null,
      "outputs": []
    },
    {
      "cell_type": "code",
      "source": [
        "P_4 =  (C(5, 1) * C(7, 3)) / C(12, 4)"
      ],
      "metadata": {
        "id": "uzrJ7xPApn2l"
      },
      "execution_count": null,
      "outputs": []
    },
    {
      "cell_type": "code",
      "source": [
        "P_5 =  (C(5, 0) * C(3, 2)) / C(8, 2)"
      ],
      "metadata": {
        "id": "rw8m3fEMqGSn"
      },
      "execution_count": null,
      "outputs": []
    },
    {
      "cell_type": "code",
      "source": [
        "P_6 =  (C(5, 3) * C(7, 1)) / C(12, 4)"
      ],
      "metadata": {
        "id": "ebpVFDVJqJuL"
      },
      "execution_count": null,
      "outputs": []
    },
    {
      "cell_type": "code",
      "source": [
        "P = P_1 * P_2 + P_3 * P_4 + P_5 * P_6\n",
        "print(P)"
      ],
      "metadata": {
        "colab": {
          "base_uri": "https://localhost:8080/"
        },
        "id": "oE2HkjuBqLWM",
        "outputId": "7658720f-8ec8-4636-d940-c3fc1cc1a6d0"
      },
      "execution_count": null,
      "outputs": [
        {
          "output_type": "stream",
          "name": "stdout",
          "text": [
            "0.3686868686868687\n"
          ]
        }
      ]
    },
    {
      "cell_type": "markdown",
      "source": [
        "**Ответ: Вероятность того, что 3 мяча белые - 0.368**"
      ],
      "metadata": {
        "id": "jOL24W3TqNnk"
      }
    },
    {
      "cell_type": "markdown",
      "source": [
        "## Задача 3\n",
        "На соревновании по биатлону один из трех спортсменов стреляет и попадает в мишень. Вероятность попадания для первого спортсмена равна 0.9, для второго — 0.8, для третьего — 0.6.\n",
        "\n",
        "**Формула Байеса**\n",
        "\n",
        "$ P (B|A)= \\frac{P (A|B) * P (B)} {P (A)} $\n",
        "\n",
        "где, B - спортсмен A - попадание в мешень"
      ],
      "metadata": {
        "id": "3r_g8bgAqPOl"
      }
    },
    {
      "cell_type": "code",
      "source": [
        "P_A = 1/3 * 0.9 + 1/3 * 0.8 + 1/3 * 0.6\n",
        "P1 = (1/3 * 0.9) / P_A\n",
        "P2 = (1/3 * 0.8) / P_A\n",
        "P3 = (1/3 * 0.6) / P_A\n",
        "print(P1, P2, P3)"
      ],
      "metadata": {
        "colab": {
          "base_uri": "https://localhost:8080/"
        },
        "id": "W4bBIg29qe8D",
        "outputId": "95f35706-2c20-4280-db35-c8bb67da244c"
      },
      "execution_count": null,
      "outputs": [
        {
          "output_type": "stream",
          "name": "stdout",
          "text": [
            "0.391304347826087 0.3478260869565218 0.2608695652173913\n"
          ]
        }
      ]
    },
    {
      "cell_type": "markdown",
      "source": [
        "**Ответ:**\n",
        "\n",
        "a) вероятность того, что выстрел произведен первым спортсменом = 0.391\n",
        "\n",
        "б) вероятность того, что выстрел произведен вторым спортсменом = 0.347\n",
        "\n",
        "в) вероятность того, что выстрел произведен третьим  спортсменом = 0.260"
      ],
      "metadata": {
        "id": "ZfRt4S5KqiC_"
      }
    },
    {
      "cell_type": "markdown",
      "source": [
        "## Задача 4\n",
        "В университет на факультеты A и B поступило равное количество студентов, а на факультет C студентов поступило столько же, сколько на A и B вместе. Вероятность того, что студент факультета A сдаст первую сессию, равна 0.8. Для студента факультета B эта вероятность равна 0.7, а для студента факультета C - 0.9. Студент сдал первую сессию. \n",
        "\n",
        "**Формула Байеса**\n",
        "\n",
        "$ P (B|A)= \\frac{P (A|B) * P (B)} {P (A)} $\n",
        "\n",
        "где, B - факультет A - сдача сессии"
      ],
      "metadata": {
        "id": "Sbzu0ygiqj3_"
      }
    },
    {
      "cell_type": "code",
      "source": [
        "PA = 1/4 * 0.8 + 1/4 * 0.7 + 1/2 * 0.9\n",
        "P_1 = 1/4 * 0.8 / PA\n",
        "P_2 = 1/4 * 0.7 / PA\n",
        "P_3 = 1/2 * 0.9 / PA\n",
        "print(P_1, P_2, P_3)"
      ],
      "metadata": {
        "colab": {
          "base_uri": "https://localhost:8080/"
        },
        "id": "BP4fxF61qtQa",
        "outputId": "5311236c-cb7d-4705-8116-8066b8563d88"
      },
      "execution_count": null,
      "outputs": [
        {
          "output_type": "stream",
          "name": "stdout",
          "text": [
            "0.24242424242424246 0.21212121212121213 0.5454545454545455\n"
          ]
        }
      ]
    },
    {
      "cell_type": "markdown",
      "source": [
        "**Ответ:** \n",
        "\n",
        "Студент сдал первую сессию. Какова вероятность, что он учится:\n",
        "\n",
        "a) на факультете A = 0.242\n",
        "\n",
        "б) на факультете B = 0.212\n",
        "\n",
        "в) на факультете C = 0.545"
      ],
      "metadata": {
        "id": "ntTNdPT1qw_i"
      }
    },
    {
      "cell_type": "markdown",
      "source": [
        "## Задача 5 \n",
        "Устройство состоит из трех деталей. Для первой детали вероятность выйти из строя в первый месяц равна 0.1, для второй - 0.2, для третьей - 0.25. "
      ],
      "metadata": {
        "id": "y6FRFzQnqxCm"
      }
    },
    {
      "cell_type": "code",
      "source": [
        "p1, p2, p3 = 0.1, 0.2, 0.25\n",
        "\n",
        "q1 = 1 - p1\n",
        "q2 = 1 - p2\n",
        "q3 = 1 - p3"
      ],
      "metadata": {
        "id": "cQ3K5Btaq5NB"
      },
      "execution_count": null,
      "outputs": []
    },
    {
      "cell_type": "markdown",
      "source": [
        "**а) Вероятность того, что в первый месяц выйдут из строя все детали = 0.005**\n",
        "\n",
        "$$P(X_3) = P(A_1) * P(A_2) * P(A_3) = p_1 * p_2 * p_3 $$"
      ],
      "metadata": {
        "id": "3Uh43R_0q7wB"
      }
    },
    {
      "cell_type": "code",
      "source": [
        "PX3 = p1 * p2 * p3\n",
        "print(PX3)"
      ],
      "metadata": {
        "colab": {
          "base_uri": "https://localhost:8080/"
        },
        "id": "eOSJ_ZpTq_B0",
        "outputId": "4d8d6eb2-fb2c-4826-88fc-b77ad764c85d"
      },
      "execution_count": null,
      "outputs": [
        {
          "output_type": "stream",
          "name": "stdout",
          "text": [
            "0.005000000000000001\n"
          ]
        }
      ]
    },
    {
      "cell_type": "markdown",
      "source": [
        "**б) Вероятность того, что в первый месяц выйдут из строя только две детали = 0.08**  \n",
        "\n",
        "Две детали сломаны, а одна - работает\n",
        "\n",
        "$$P(X_2) = P(A_1) * P(A_2) * P(\\overline{A}_3) + P(A_1) * P(\\overline{A}_2) * P(A_3) + P(\\overline{A}_1) * P(A_2) * P(A_3)= p_1 * p_2 * q_3 + p_1 * q_2 * p_3 + q_1 * p_2 * p_3 $$"
      ],
      "metadata": {
        "id": "hV2kiGi4rCW1"
      }
    },
    {
      "cell_type": "code",
      "source": [
        "PX2 = p1 * p2 * q3 + p1 * q2 * p3 + q1 * p2 * p3\n",
        "print(PX2)"
      ],
      "metadata": {
        "colab": {
          "base_uri": "https://localhost:8080/"
        },
        "id": "1knefPgGrC9H",
        "outputId": "0d34cf46-c85c-40b5-ee74-c0cc2a14b81d"
      },
      "execution_count": null,
      "outputs": [
        {
          "output_type": "stream",
          "name": "stdout",
          "text": [
            "0.08000000000000002\n"
          ]
        }
      ]
    },
    {
      "cell_type": "markdown",
      "source": [
        "**в) Вероятность того, что в первый месяц выйдут из строя хотя бы одна деталь = 0.375**  \n",
        "\n",
        "Две детали работают, а одна - сломана\n",
        "\n",
        "$$P(X_1) = P(A_1) * P(\\overline{A}_2) * P(\\overline{A}_3) + P(\\overline{A}_1) * P(\\overline{A}_2) * P(A_3) + P(\\overline{A}_1) * P(A_2) * P(\\overline{A}_3)= p_1 * q_2 * q_3 + q_1 * q_2 * p_3 + q_1 * p_2 * q_3 $$"
      ],
      "metadata": {
        "id": "8dxyPLNKrJd1"
      }
    },
    {
      "cell_type": "code",
      "source": [
        "PX1 = p1 * q2 * q3 + q1 * q2 * p3 + q1 * p2 * q3\n",
        "\n",
        "print(PX1)"
      ],
      "metadata": {
        "id": "VvZXI4DYrKCi",
        "outputId": "daa69a1b-b3cc-40d0-efa5-f731799469da",
        "colab": {
          "base_uri": "https://localhost:8080/"
        }
      },
      "execution_count": null,
      "outputs": [
        {
          "output_type": "stream",
          "name": "stdout",
          "text": [
            "0.37500000000000006\n"
          ]
        }
      ]
    },
    {
      "cell_type": "markdown",
      "source": [
        "**г) Вероятность того, что в первый месяц выйдут из строя от одной до двух деталей = 0.455**\n",
        "\n",
        "Одна сломана, две работают **ИЛИ** две сломаны и одна работает\n",
        "\n",
        "$$P(X_(1*2)) = P(X_1) + P(X_2) $$"
      ],
      "metadata": {
        "id": "AEYWUMTFrOa0"
      }
    },
    {
      "cell_type": "code",
      "source": [
        "PX1_2 = PX1 + PX2\n",
        "print(PX1_2)"
      ],
      "metadata": {
        "id": "Cm0disShrPX4",
        "outputId": "f738155d-8832-4f62-de23-1b92bc04dac9",
        "colab": {
          "base_uri": "https://localhost:8080/"
        }
      },
      "execution_count": null,
      "outputs": [
        {
          "output_type": "stream",
          "name": "stdout",
          "text": [
            "0.45500000000000007\n"
          ]
        }
      ]
    }
  ]
}