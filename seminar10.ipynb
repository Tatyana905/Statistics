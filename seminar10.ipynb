{
  "nbformat": 4,
  "nbformat_minor": 0,
  "metadata": {
    "colab": {
      "provenance": [],
      "authorship_tag": "ABX9TyPogujUFp++Aj3gnHlIyhba",
      "include_colab_link": true
    },
    "kernelspec": {
      "name": "python3",
      "display_name": "Python 3"
    },
    "language_info": {
      "name": "python"
    }
  },
  "cells": [
    {
      "cell_type": "markdown",
      "metadata": {
        "id": "view-in-github",
        "colab_type": "text"
      },
      "source": [
        "<a href=\"https://colab.research.google.com/github/Allajka/statistics/blob/main/seminar10.ipynb\" target=\"_parent\"><img src=\"https://colab.research.google.com/assets/colab-badge.svg\" alt=\"Open In Colab\"/></a>"
      ]
    },
    {
      "cell_type": "markdown",
      "source": [
        "# Задача 1\n",
        "Провести дисперсионный анализ для определения того, есть ли различия среднего роста среди взрослых футболистов, хоккеистов и штангистов. Даны значения роста в трех группах случайно выбранных спортсменов: \n",
        "\n",
        "Футболисты: 173, 175, 180, 178, 177, 185, 183, 182. \n",
        "\n",
        "Хоккеисты: 177, 179, 180, 188, 177, 172, 171, 184, 180. \n",
        "\n",
        "Штангисты: 172, 173, 169, 177, 166, 180, 178, 177, 172, 166, 170.\n",
        "\n",
        "**Мы будем проверять качественный параметр: группа спортсменов и количественный: рост**"
      ],
      "metadata": {
        "id": "FG8vO3FfUN3b"
      }
    },
    {
      "cell_type": "markdown",
      "source": [
        "## Проведем разведочный анализ:\n",
        "* Проверка на нормальность - Тест Шапиро-Уилка\n",
        "* Проверка на равенство дисперсий - Критерий Бартлетта"
      ],
      "metadata": {
        "id": "jyQr5wz9Ueag"
      }
    },
    {
      "cell_type": "code",
      "execution_count": 7,
      "metadata": {
        "id": "E7C6CbV_UKwk"
      },
      "outputs": [],
      "source": [
        "import numpy as np\n",
        "import scipy.stats as stats\n",
        "import pandas as pd"
      ]
    },
    {
      "cell_type": "code",
      "source": [
        "football_players = np.array([173, 175, 180, 178, 177, 185, 183, 182]) \n",
        "hockey_players = np.array([177, 179, 180, 188, 177, 172, 171, 184, 180]) \n",
        "weightlifters = np.array([172, 173, 169, 177, 166, 180, 178, 177, 172, 166, 170]) "
      ],
      "metadata": {
        "id": "UDTalCV4UtHJ"
      },
      "execution_count": 2,
      "outputs": []
    },
    {
      "cell_type": "code",
      "source": [
        "print(f\" Футболисты {stats.shapiro(football_players)}\")\n",
        "print(f\" Хоккеисты {stats.shapiro(hockey_players)}\")\n",
        "print(f\" Штангисты {stats.shapiro(weightlifters)}\")"
      ],
      "metadata": {
        "colab": {
          "base_uri": "https://localhost:8080/"
        },
        "id": "EZvmre8LV1gt",
        "outputId": "815ea7d5-a444-4d09-da31-09fd41f17e98"
      },
      "execution_count": 3,
      "outputs": [
        {
          "output_type": "stream",
          "name": "stdout",
          "text": [
            " Футболисты ShapiroResult(statistic=0.9775081276893616, pvalue=0.9495397210121155)\n",
            " Хоккеисты ShapiroResult(statistic=0.9579195976257324, pvalue=0.7763133645057678)\n",
            " Штангисты ShapiroResult(statistic=0.93868088722229, pvalue=0.5051169991493225)\n"
          ]
        }
      ]
    },
    {
      "cell_type": "code",
      "source": [
        "stats.bartlett(football_players, hockey_players, weightlifters)\n"
      ],
      "metadata": {
        "colab": {
          "base_uri": "https://localhost:8080/"
        },
        "id": "O3fdjF6eWNPy",
        "outputId": "f76598ec-c7df-4c2b-afc5-71fad354ce8c"
      },
      "execution_count": 5,
      "outputs": [
        {
          "output_type": "execute_result",
          "data": {
            "text/plain": [
              "BartlettResult(statistic=0.4640521043406442, pvalue=0.7929254656083131)"
            ]
          },
          "metadata": {},
          "execution_count": 5
        }
      ]
    },
    {
      "cell_type": "markdown",
      "source": [
        "**Вывод по разведочному анализу** Выборки соответствуют нормальному распределению и однородность дисперсий.\n",
        "\n",
        "## Можем использовать параметрический анализ, а именно Однофакторный дисперсионный анализ(ANOVA).\n",
        "\n",
        "Сформулируем гипотезы:\n",
        "$$H_0: μ = μ_1 = μ_2 = μ_3$$\n",
        "\n",
        "$$H_1: μ \\neq μ_1 \\neq μ_2 \\neq μ_3$$ "
      ],
      "metadata": {
        "id": "T3x9BgnQWJr7"
      }
    },
    {
      "cell_type": "code",
      "source": [
        "stats.f_oneway(football_players, hockey_players, weightlifters)"
      ],
      "metadata": {
        "colab": {
          "base_uri": "https://localhost:8080/"
        },
        "id": "ATVxz7sKXYdH",
        "outputId": "5dafbbb8-4981-4c7c-eea5-1c6c8e8be64b"
      },
      "execution_count": 10,
      "outputs": [
        {
          "output_type": "execute_result",
          "data": {
            "text/plain": [
              "F_onewayResult(statistic=5.500053450812596, pvalue=0.010482206918698694)"
            ]
          },
          "metadata": {},
          "execution_count": 10
        }
      ]
    },
    {
      "cell_type": "markdown",
      "source": [
        "**Ответ** на уровне статистической значимости a = 0.05 при значении pvalue=0.01 попадаем в область принятия альтернативной гипотезы, т.е. средний рост футболистов, хоккеистов и штангистов отличается."
      ],
      "metadata": {
        "id": "foZMm0LIaoLC"
      }
    }
  ]
}