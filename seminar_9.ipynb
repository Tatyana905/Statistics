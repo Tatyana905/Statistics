{
  "nbformat": 4,
  "nbformat_minor": 0,
  "metadata": {
    "colab": {
      "provenance": [],
      "authorship_tag": "ABX9TyONHifRtjmSWixeaLGAMlWT",
      "include_colab_link": true
    },
    "kernelspec": {
      "name": "python3",
      "display_name": "Python 3"
    },
    "language_info": {
      "name": "python"
    }
  },
  "cells": [
    {
      "cell_type": "markdown",
      "metadata": {
        "id": "view-in-github",
        "colab_type": "text"
      },
      "source": [
        "<a href=\"https://colab.research.google.com/github/Allajka/statistics/blob/main/seminar_9.ipynb\" target=\"_parent\"><img src=\"https://colab.research.google.com/assets/colab-badge.svg\" alt=\"Open In Colab\"/></a>"
      ]
    },
    {
      "cell_type": "markdown",
      "source": [
        "# Задание 1 \n",
        "Даны значения величины заработной платы заемщиков банка (zp) и значения их поведенческого кредитного скоринга (ks): \n",
        "\n",
        "zp = [35, 45, 190, 200, 40, 70, 54, 150, 120, 110], \n",
        "\n",
        "ks = [401, 574, 874, 919, 459, 739, 653, 902, 746, 832]. \n",
        "\n",
        "Используя математические операции, посчитать коэффициенты линейной регрессии, приняв за X заработную плату (то есть, zp - признак), а за y - значения скорингового балла (то есть, ks - целевая переменная). Произвести расчет как с использованием intercept, так и без."
      ],
      "metadata": {
        "id": "Ynls5m9VHcFL"
      }
    },
    {
      "cell_type": "markdown",
      "source": [
        "## Решение\n",
        "Ранее мы определили:\n",
        "* Ковариация: cov = 9157.84 ---> Обе величины двигаются вверх.\n",
        "\n",
        "* Коэффициент корреляции Пирсона: r = 0.89\n",
        "\n",
        "Таким образом, мы предполагаем сильную линейную зависимость и можно проводить регрессионный анализ.  "
      ],
      "metadata": {
        "id": "lDBPE00jH1Yc"
      }
    },
    {
      "cell_type": "markdown",
      "source": [
        "## 1) Построим модель с intercept используя математические формулы, а для проверки воспользуемся готовым решением в Pyhton"
      ],
      "metadata": {
        "id": "Kycb1n70RXGR"
      }
    },
    {
      "cell_type": "markdown",
      "source": [
        "1. Определимся с моделью: \n",
        "\n",
        "$$\\hat{ks} = β_0 + β_1 * zp$$\n",
        "2. Определимся с коэффициентами β"
      ],
      "metadata": {
        "id": "BQlbbBh_J00s"
      }
    },
    {
      "cell_type": "code",
      "execution_count": 1,
      "metadata": {
        "id": "urNbNfUtHYbf"
      },
      "outputs": [],
      "source": [
        "import numpy as np\n",
        "import scipy.stats as stats\n",
        "import matplotlib.pyplot as plt\n",
        "from sklearn.linear_model import LinearRegression"
      ]
    },
    {
      "cell_type": "code",
      "source": [
        "zp = np.array([35, 45, 190, 200, 40, 70, 54, 150, 120, 110]) # независимая переменная, т.е. признак по которому мы будем предсказывать\n",
        "ks = np.array([401, 574, 874, 919, 459, 739, 653, 902, 746, 832]) "
      ],
      "metadata": {
        "id": "hCXT0cVhSOYA"
      },
      "execution_count": 40,
      "outputs": []
    },
    {
      "cell_type": "code",
      "source": [
        "b1 = (np.mean(zp * ks) - np.mean(zp) * np.mean(ks)) / (np.mean(zp**2) - np.mean(zp)**2)\n",
        "b0 = np.mean(ks) - b1 * np.mean(zp)\n",
        "print(f\"b0 = {b0} - интерсепт \\nb1 = {b1}\")"
      ],
      "metadata": {
        "colab": {
          "base_uri": "https://localhost:8080/"
        },
        "id": "uwG8RPuXSOgG",
        "outputId": "704cf18f-4a94-4ef6-a609-787c3c34708c"
      },
      "execution_count": 41,
      "outputs": [
        {
          "output_type": "stream",
          "name": "stdout",
          "text": [
            "b0 = 444.1773573243596 - интерсепт \n",
            "b1 = 2.620538882402765\n"
          ]
        }
      ]
    },
    {
      "cell_type": "markdown",
      "source": [
        "Проверка с помощью функций Python\n"
      ],
      "metadata": {
        "id": "UCZ3l0dqTzSn"
      }
    },
    {
      "cell_type": "code",
      "source": [
        "# задаем модель линейной регрессии \n",
        "model = LinearRegression()\n",
        "\n",
        "# делаем независимой массив двумерным атрибутом reshape(-1, 1)\n",
        "zp = zp.reshape(-1, 1)\n",
        "\n",
        "# подбираем коэффициенты \n",
        "regres = model.fit(zp, ks)\n",
        "\n",
        "# коэффициенты\n",
        "b0 = regres.intercept_\n",
        "b1 = regres.coef_[0]\n",
        "\n",
        "print(f\"b0 = {b0} - интерсепт \\nb1 = {b1}\")"
      ],
      "metadata": {
        "colab": {
          "base_uri": "https://localhost:8080/"
        },
        "id": "AFrxmx4GKebg",
        "outputId": "8a6f259d-cf6a-44dc-e983-90ac255acd2f"
      },
      "execution_count": 57,
      "outputs": [
        {
          "output_type": "stream",
          "name": "stdout",
          "text": [
            "b0 = 444.1773573243595 - интерсепт \n",
            "b1 = 2.6205388824027662\n"
          ]
        }
      ]
    },
    {
      "cell_type": "markdown",
      "source": [
        "Расчеты сошлись.\n",
        "\n",
        "3. Подставляем в формулу признак и производим расчет прогнозируемого."
      ],
      "metadata": {
        "id": "K0UTd-rQT_AZ"
      }
    },
    {
      "cell_type": "code",
      "source": [
        "ks_pred_intercept = 444.1773573243595 + 2.6205388824027662 * zp\n",
        "ks_pred_intercept"
      ],
      "metadata": {
        "colab": {
          "base_uri": "https://localhost:8080/"
        },
        "id": "OeLI2JAISOnr",
        "outputId": "2f24c1c6-6e01-4d63-9f52-d1a52eefc7e8"
      },
      "execution_count": 60,
      "outputs": [
        {
          "output_type": "execute_result",
          "data": {
            "text/plain": [
              "array([[535.89621821],\n",
              "       [562.10160703],\n",
              "       [942.07974498],\n",
              "       [968.2851338 ],\n",
              "       [548.99891262],\n",
              "       [627.61507909],\n",
              "       [585.68645697],\n",
              "       [837.25818968],\n",
              "       [758.64202321],\n",
              "       [732.43663439]])"
            ]
          },
          "metadata": {},
          "execution_count": 60
        }
      ]
    },
    {
      "cell_type": "code",
      "source": [
        "# подставим независимые данные в модель и посчитаем предикартовые(предсказываемые) значения кредитного скоринга\n",
        "ks_pred_intercept = model.predict(zp)\n",
        "ks_pred_intercept"
      ],
      "metadata": {
        "colab": {
          "base_uri": "https://localhost:8080/"
        },
        "id": "oU6-NyziMwEj",
        "outputId": "86160c1a-d3b6-413a-c8fc-1af15f784832"
      },
      "execution_count": 61,
      "outputs": [
        {
          "output_type": "execute_result",
          "data": {
            "text/plain": [
              "array([535.89621821, 562.10160703, 942.07974498, 968.2851338 ,\n",
              "       548.99891262, 627.61507909, 585.68645697, 837.25818968,\n",
              "       758.64202321, 732.43663439])"
            ]
          },
          "metadata": {},
          "execution_count": 61
        }
      ]
    },
    {
      "cell_type": "code",
      "source": [
        "plt.scatter(zp, ks)\n",
        "plt.title('Зависимость поведенческого кредитного скоринга от заработной платы')\n",
        "plt.plot(zp, ks_pred_intercept, label=r'ks = 444.18 + 2.62 * zp')\n",
        "plt.legend()\n",
        "plt.xlabel('Величина заработной платы заемщиков банка(zp)')\n",
        "plt.ylabel('Поведенческий кредитный скоринг (ks)')\n",
        "plt.show()"
      ],
      "metadata": {
        "colab": {
          "base_uri": "https://localhost:8080/",
          "height": 295
        },
        "id": "NlnTiAxDNB7b",
        "outputId": "40f970ac-60a4-4a69-9715-b3975be2bd30"
      },
      "execution_count": 77,
      "outputs": [
        {
          "output_type": "display_data",
          "data": {
            "text/plain": [
              "<Figure size 432x288 with 1 Axes>"
            ],
            "image/png": "[encoded data removed]"
          },
          "metadata": {
            "needs_background": "light"
          }
        }
      ]
    },
    {
      "cell_type": "markdown",
      "source": [
        "## 2) Построим модель **без** intercept используя матричный метод, а для проверки воспользуемся готовым решением в Pyhton"
      ],
      "metadata": {
        "id": "ZYU-lu3SVaxl"
      }
    },
    {
      "cell_type": "markdown",
      "source": [
        "1. Определимся с моделью: \n",
        "\n",
        "$$\\hat{ks} = β_1 * zp$$\n",
        "2. Определимся с коэффициентами β\n",
        "\n",
        "В случае, отсутствия интерсепта величина коэффициена b расчитывается матричным методом"
      ],
      "metadata": {
        "id": "furilOLuVpWa"
      }
    },
    {
      "cell_type": "code",
      "source": [
        "zp = np.array([35, 45, 190, 200, 40, 70, 54, 150, 120, 110]) # независимая переменная, т.е. признак по которому мы будем предсказывать\n",
        "ks = np.array([401, 574, 874, 919, 459, 739, 653, 902, 746, 832]) \n",
        "# превращаем массивы в вектор-столбец с помощью атрибута reshape\n",
        "ks=ks.reshape((-1,1))\n",
        "zp=zp.reshape((-1,1))\n",
        "# Если по какой-то причине мы хотим построить модель без интерсепта, тогда просто не добавляем столбец единиц.\n",
        "B = np.dot(np.linalg.inv(np.dot(zp.T,zp)),np.dot(zp.T,ks))[0, 0]\n",
        "print(f\"b1 = {B}\")"
      ],
      "metadata": {
        "colab": {
          "base_uri": "https://localhost:8080/"
        },
        "id": "7T9eO7I_VwOB",
        "outputId": "cee81d15-dfa7-4d51-f4a6-93edaebda3d6"
      },
      "execution_count": 82,
      "outputs": [
        {
          "output_type": "stream",
          "name": "stdout",
          "text": [
            "b1 = 5.889820420132688\n"
          ]
        }
      ]
    },
    {
      "cell_type": "markdown",
      "source": [
        "Проверка с помощью функций Python"
      ],
      "metadata": {
        "id": "9DRJShxbV-o_"
      }
    },
    {
      "cell_type": "code",
      "source": [
        "# задаем модель линейной регрессии \n",
        "model = LinearRegression(fit_intercept = False)\n",
        "\n",
        "# делаем независимой массив двумерным атрибутом reshape(-1, 1)\n",
        "zp = zp.reshape(-1, 1)\n",
        "\n",
        "# подбираем коэффициенты \n",
        "regres = model.fit(zp, ks)\n",
        "\n",
        "# коэффициенты\n",
        "b0 = regres.intercept_\n",
        "b1 = regres.coef_[0, 0]\n",
        "\n",
        "print(f\"b0 = {b0} - интерсепт \\nb1 = {b1}\")"
      ],
      "metadata": {
        "colab": {
          "base_uri": "https://localhost:8080/"
        },
        "id": "k8vTvU9gW5c9",
        "outputId": "92efbdd4-dece-46d5-810d-4ec47ea44fd0"
      },
      "execution_count": 84,
      "outputs": [
        {
          "output_type": "stream",
          "name": "stdout",
          "text": [
            "b0 = 0.0 - интерсепт \n",
            "b1 = 5.889820420132688\n"
          ]
        }
      ]
    },
    {
      "cell_type": "markdown",
      "source": [
        "Расчеты сошлись.\n",
        "\n",
        "3. Подставляем в формулу признак и производим расчет прогнозируемого."
      ],
      "metadata": {
        "id": "udfHlfQafDeL"
      }
    },
    {
      "cell_type": "code",
      "source": [
        "ks_pred = 5.889820420132688 * zp\n",
        "ks_pred"
      ],
      "metadata": {
        "colab": {
          "base_uri": "https://localhost:8080/"
        },
        "id": "_RdirlSyXTeq",
        "outputId": "76ef9e44-a2a4-43c5-c52d-6b1dbf5e9037"
      },
      "execution_count": 85,
      "outputs": [
        {
          "output_type": "execute_result",
          "data": {
            "text/plain": [
              "array([[ 206.1437147 ],\n",
              "       [ 265.04191891],\n",
              "       [1119.06587983],\n",
              "       [1177.96408403],\n",
              "       [ 235.59281681],\n",
              "       [ 412.28742941],\n",
              "       [ 318.05030269],\n",
              "       [ 883.47306302],\n",
              "       [ 706.77845042],\n",
              "       [ 647.88024621]])"
            ]
          },
          "metadata": {},
          "execution_count": 85
        }
      ]
    },
    {
      "cell_type": "code",
      "source": [
        "# подставим независимые данные в модель и посчитаем предикартовые(предсказываемые) значения кредитного скоринга\n",
        "ks_pred = model.predict(zp)\n",
        "ks_pred"
      ],
      "metadata": {
        "colab": {
          "base_uri": "https://localhost:8080/"
        },
        "id": "nCg0X1jTXv-r",
        "outputId": "9e744dd8-f8f3-465c-bcec-537a72fa5f57"
      },
      "execution_count": 86,
      "outputs": [
        {
          "output_type": "execute_result",
          "data": {
            "text/plain": [
              "array([[ 206.1437147 ],\n",
              "       [ 265.04191891],\n",
              "       [1119.06587983],\n",
              "       [1177.96408403],\n",
              "       [ 235.59281681],\n",
              "       [ 412.28742941],\n",
              "       [ 318.05030269],\n",
              "       [ 883.47306302],\n",
              "       [ 706.77845042],\n",
              "       [ 647.88024621]])"
            ]
          },
          "metadata": {},
          "execution_count": 86
        }
      ]
    },
    {
      "cell_type": "code",
      "source": [
        "plt.scatter(zp, ks)\n",
        "plt.title('Зависимость поведенческого кредитного скоринга от заработной платы')\n",
        "plt.plot(zp, ks_pred_intercept, label=r'ks = 444.18 + 2.62 * zp')\n",
        "plt.plot(zp, ks_pred, label=r'ks = 5.89 * zp')\n",
        "plt.legend()\n",
        "plt.xlabel('Величина заработной платы заемщиков банка(zp)')\n",
        "plt.ylabel('Поведенческий кредитный скоринг (ks)')\n",
        "plt.show()"
      ],
      "metadata": {
        "colab": {
          "base_uri": "https://localhost:8080/",
          "height": 295
        },
        "id": "bkovBVkyfb7M",
        "outputId": "611c78ff-23bf-4e80-b1fe-5d09e01d3e9a"
      },
      "execution_count": 87,
      "outputs": [
        {
          "output_type": "display_data",
          "data": {
            "text/plain": [
              "<Figure size 432x288 with 1 Axes>"
            ],
            "image/png": "[encoded data removed]"
          },
          "metadata": {
            "needs_background": "light"
          }
        }
      ]
    },
    {
      "cell_type": "markdown",
      "source": [
        "## Коэффициент детерминации\n",
        "После того как построили модель линейной регрессии мы должны оценить полученную модель."
      ],
      "metadata": {
        "id": "QASutp-KhDq9"
      }
    },
    {
      "cell_type": "code",
      "source": [
        "# задаем модель линейной регрессии \n",
        "model = LinearRegression(fit_intercept = False)\n",
        "# делаем независимой массив двумерным атрибутом reshape(-1, 1)\n",
        "zp = zp.reshape(-1, 1)\n",
        "# подбираем коэффициенты \n",
        "regres = model.fit(zp, ks)\n",
        "regres.score(zp, ks)"
      ],
      "metadata": {
        "colab": {
          "base_uri": "https://localhost:8080/"
        },
        "id": "P8lj4G_vhBnu",
        "outputId": "341209a5-0363-4108-ba6f-ccdda9d17e81"
      },
      "execution_count": 94,
      "outputs": [
        {
          "output_type": "execute_result",
          "data": {
            "text/plain": [
              "-0.8549037531632884"
            ]
          },
          "metadata": {},
          "execution_count": 94
        }
      ]
    },
    {
      "cell_type": "code",
      "source": [
        "# задаем модель линейной регрессии \n",
        "model = LinearRegression()\n",
        "# делаем независимой массив двумерным атрибутом reshape(-1, 1)\n",
        "zp = zp.reshape(-1, 1)\n",
        "# подбираем коэффициенты \n",
        "regres = model.fit(zp, ks)\n",
        "regres.score(zp, ks)"
      ],
      "metadata": {
        "colab": {
          "base_uri": "https://localhost:8080/"
        },
        "id": "OlGevPFyh2A1",
        "outputId": "925bc32b-57b3-482a-fb7a-92575b076d7d"
      },
      "execution_count": 95,
      "outputs": [
        {
          "output_type": "execute_result",
          "data": {
            "text/plain": [
              "0.7876386635293685"
            ]
          },
          "metadata": {},
          "execution_count": 95
        }
      ]
    },
    {
      "cell_type": "markdown",
      "source": [
        "**Вывод:** графически видно, что модель с использованием intercept ближе к фактическим значениям. Мы так же проверили это посчитав коэффициент детерминации, который при отсутствии intercept отрицательный, что значит, что разработанная модель даёт прогноз даже хуже, чем простое усреднение.  \n",
        "\n",
        "Поэтому используем модель с intercept, ведь там приблизительно 78.8% изменчивости описано с помощью математической модели."
      ],
      "metadata": {
        "id": "beu-IkzmfvBs"
      }
    },
    {
      "cell_type": "markdown",
      "source": [
        "# Задание 2 \n",
        "\n",
        "Посчитать коэффициент линейной регрессии при заработной плате (zp), используя градиентный спуск (без intercept)."
      ],
      "metadata": {
        "id": "spu0KhbpjY93"
      }
    },
    {
      "cell_type": "markdown",
      "source": [
        "### Решение:"
      ],
      "metadata": {
        "id": "9KWmPv3Mkqvh"
      }
    },
    {
      "cell_type": "markdown",
      "source": [
        "$$\\hat{ks} = β_1 * zp$$"
      ],
      "metadata": {
        "id": "PbyzZh16nvfh"
      }
    },
    {
      "cell_type": "code",
      "source": [
        "x = np.array([35, 45, 190, 200, 40, 70, 54, 150, 120, 110]) # независимая переменная, т.е. признак по которому мы будем предсказывать\n",
        "y = np.array([401, 574, 874, 919, 459, 739, 653, 902, 746, 832]) "
      ],
      "metadata": {
        "id": "7_4_L7C4kHj8"
      },
      "execution_count": 130,
      "outputs": []
    },
    {
      "cell_type": "markdown",
      "source": [
        "**Функция потерь**\n",
        "\n",
        "Показывает, насколько далеко истинные значения зависимого признака будут находиться от линии регресии(расчетных значений).\n",
        "\n",
        "$$mse=\\frac{Σ(y-y_{pred})^2}{n}$$"
      ],
      "metadata": {
        "id": "ExB8ED0uk8iu"
      }
    },
    {
      "cell_type": "markdown",
      "source": [
        "Нам нужно подобрать такое значение коэффициента b, при котором mse максимально близка 0, используя свойства производной. Вычислим производную функции потерь для B1:"
      ],
      "metadata": {
        "id": "7xWXr_kSaHbL"
      }
    },
    {
      "cell_type": "code",
      "source": [
        "# функция потерь для B1\n",
        "def mse_(B1, y = y, x = x, n = len(y)):\n",
        "  return np.sum((B1*x - y)**2) / n"
      ],
      "metadata": {
        "id": "4-wu-zPEkQp1"
      },
      "execution_count": 97,
      "outputs": []
    },
    {
      "cell_type": "code",
      "source": [
        "alpha = 0.000001 # скорость обучения c помощью которого будем регулировать скорость подбора коэффициента b\n",
        "B1 = 0.1\n",
        "n = len(y)"
      ],
      "metadata": {
        "id": "rnyS0YLCka7k"
      },
      "execution_count": 111,
      "outputs": []
    },
    {
      "cell_type": "code",
      "source": [
        "for i in range(3000):\n",
        "  B1 -=  alpha * (2/n) * np.sum((B1*x - y) * x)\n",
        "  if i % 500 == 0: \n",
        "    print(f\"Итерация {i}: B1 = {B1}, mse = {mse_(B1)}\")"
      ],
      "metadata": {
        "colab": {
          "base_uri": "https://localhost:8080/"
        },
        "id": "1lkDcrlFkeJG",
        "outputId": "b82bd3e8-103a-4dec-eae1-35bf8accae50"
      },
      "execution_count": 112,
      "outputs": [
        {
          "output_type": "stream",
          "name": "stdout",
          "text": [
            "Итерация 0: B1 = 0.25952808, mse = 493237.7212546963\n",
            "Итерация 500: B1 = 5.889815595583751, mse = 56516.858416040064\n",
            "Итерация 1000: B1 = 5.8898204201285544, mse = 56516.85841571941\n",
            "Итерация 1500: B1 = 5.889820420132673, mse = 56516.85841571943\n",
            "Итерация 2000: B1 = 5.889820420132673, mse = 56516.85841571943\n",
            "Итерация 2500: B1 = 5.889820420132673, mse = 56516.85841571943\n"
          ]
        }
      ]
    },
    {
      "cell_type": "markdown",
      "source": [
        "**Ответ** При построении модели без intercept с помощью метода градиентного спуска коэффициэнт b = 5.889820420132673, что соответствует предыдущим расчетам."
      ],
      "metadata": {
        "id": "PP3eRhR6mxOy"
      }
    },
    {
      "cell_type": "markdown",
      "source": [
        "# Задание 3\n",
        "Произвести вычисления как в пункте 2, но с вычислением intercept. Учесть, что изменение коэффициентов должно производиться\n",
        "на каждом шаге одновременно (то есть изменение одного коэффициента не должно влиять на изменение другого во время одной итерации).\n",
        "\n"
      ],
      "metadata": {
        "id": "xLTbg5SOnTPM"
      }
    },
    {
      "cell_type": "markdown",
      "source": [
        "### Решение:"
      ],
      "metadata": {
        "id": "wUNLR4_qoFpx"
      }
    },
    {
      "cell_type": "markdown",
      "source": [
        "$$\\hat{ks} = β_0 + β_1 * zp$$"
      ],
      "metadata": {
        "id": "NVgcOOGVoHk9"
      }
    },
    {
      "cell_type": "code",
      "source": [
        "zp = np.array([35, 45, 190, 200, 40, 70, 54, 150, 120, 110])\n",
        "ks = np.array([401, 574, 874, 919, 459, 739, 653, 902, 746, 832]) "
      ],
      "metadata": {
        "id": "IqaWUV4nXl6E"
      },
      "execution_count": 22,
      "outputs": []
    },
    {
      "cell_type": "code",
      "source": [
        "# Функция потерь общая\n",
        "def _mse(b0, b1, x = zp, y = ks):\n",
        "    return np.sum(((b0 + b1 * x) - y)**2) / len(x)"
      ],
      "metadata": {
        "id": "jZ7NKmrEZCcH"
      },
      "execution_count": 28,
      "outputs": []
    },
    {
      "cell_type": "code",
      "source": [
        "# Частная производная функции потерь по b0\n",
        "def _mse_b0(b0, b1, x = zp, y = ks): \n",
        "    return 2 * np.sum((b0 + b1 * x) -y) / len(x)"
      ],
      "metadata": {
        "id": "UeWzHOqRYpkE"
      },
      "execution_count": 24,
      "outputs": []
    },
    {
      "cell_type": "code",
      "source": [
        "# Частная производная функции потерь по b1\n",
        "def _mse_b1(b0, b1, x = zp, y = ks):\n",
        "    return 2 * np.sum(((b0 + b1 * x) - y) * x) / len(x)"
      ],
      "metadata": {
        "id": "YA5oRcRNYxo0"
      },
      "execution_count": 25,
      "outputs": []
    },
    {
      "cell_type": "code",
      "source": [
        "# Скорость обучения:\n",
        "alpha = 5e-05"
      ],
      "metadata": {
        "id": "VnJLg-qqY2JI"
      },
      "execution_count": 26,
      "outputs": []
    },
    {
      "cell_type": "code",
      "source": [
        "b1 = 0.1\n",
        "b0 = 0.1\n",
        "mse_min = _mse(b0, b1)\n",
        "i_min = 1\n",
        "b1_min = b1\n",
        "b0_min = b0\n",
        "   \n",
        "for i in range(1000000):\n",
        "    b0 -= alpha * _mse_b0(b0, b1)\n",
        "    b1 -= alpha * _mse_b1(b0, b1)\n",
        "    if i % 50000 == 0:\n",
        "        print(f'Итерация {i}: b0 = {b0}, b1 = {b1}, mse = {_mse(b0, b1)}')\n",
        "    if _mse(b0, b1) > mse_min:\n",
        "        print(f'Итерация {i_min}: b0 = {b0_min}, b1 = {b1_min}, mse = {mse_min},\\nДостигнут минимум.')\n",
        "        break\n",
        "    else:\n",
        "        mse_min = _mse(b0, b1)\n",
        "        i_min = i\n",
        "        b1_min = b1\n",
        "        b0_min = b0\n",
        "print(f'b0 = {b0_min} \\nb1 = {b1_min}')"
      ],
      "metadata": {
        "colab": {
          "base_uri": "https://localhost:8080/"
        },
        "id": "gYggVYiEY6hl",
        "outputId": "1a5317c5-6f79-47e7-b5c1-47e03451ac3f"
      },
      "execution_count": 34,
      "outputs": [
        {
          "output_type": "stream",
          "name": "stdout",
          "text": [
            "Итерация 0: b0 = 0.169966, b1 = 8.07468054476, mse = 122318.06397097567\n",
            "Итерация 50000: b0 = 319.27767648420047, b1 = 3.5398324356503275, mse = 10427.569111705801\n",
            "Итерация 100000: b0 = 409.0442373734796, b1 = 2.879127619051743, mse = 6783.521961452364\n",
            "Итерация 150000: b0 = 434.29473705519484, b1 = 2.693277491833349, mse = 6495.188684804794\n",
            "Итерация 200000: b0 = 441.3974680483413, b1 = 2.6409995775222037, mse = 6472.374468908443\n",
            "Итерация 250000: b0 = 443.39540029510493, b1 = 2.62629428586797, mse = 6470.569306309746\n",
            "Итерация 300000: b0 = 443.95740007610897, b1 = 2.622157823932053, mse = 6470.426473787141\n",
            "Итерация 350000: b0 = 444.1154853937451, b1 = 2.6209942756156086, mse = 6470.415172240385\n",
            "Итерация 400000: b0 = 444.159953325044, b1 = 2.6206669802831115, mse = 6470.414278011555\n",
            "Итерация 450000: b0 = 444.1724617410292, b1 = 2.6205749151465225, mse = 6470.414207256183\n",
            "Итерация 500000: b0 = 444.1759802422447, b1 = 2.6205490180788695, mse = 6470.414201657699\n",
            "Итерация 520164: b0 = 444.17653163778414, b1 = 2.62054495966686, mse = 6470.414201349592,\n",
            "Достигнут минимум.\n",
            "b0 = 444.17653163778414 \n",
            "b1 = 2.62054495966686\n"
          ]
        }
      ]
    }
  ]
}